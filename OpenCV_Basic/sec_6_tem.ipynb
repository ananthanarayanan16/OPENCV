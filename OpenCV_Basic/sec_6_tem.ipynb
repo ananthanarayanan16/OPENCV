{
 "cells": [
  {
   "cell_type": "code",
   "execution_count": 3,
   "id": "f89fea31-4c87-4992-96f8-c4be7155c428",
   "metadata": {},
   "outputs": [],
   "source": [
    "# TEMPLATE MATCHING\n",
    "\n",
    "import numpy as np\n",
    "import cv2\n",
    "import matplotlib.pyplot as plt\n",
    "%matplotlib inline"
   ]
  },
  {
   "cell_type": "code",
   "execution_count": null,
   "id": "28f2b2da-9f7e-4c65-b8fc-5ef15729b98e",
   "metadata": {},
   "outputs": [],
   "source": []
  }
 ],
 "metadata": {
  "kernelspec": {
   "display_name": "Python 3 (ipykernel)",
   "language": "python",
   "name": "python3"
  },
  "language_info": {
   "codemirror_mode": {
    "name": "ipython",
    "version": 3
   },
   "file_extension": ".py",
   "mimetype": "text/x-python",
   "name": "python",
   "nbconvert_exporter": "python",
   "pygments_lexer": "ipython3",
   "version": "3.10.12"
  }
 },
 "nbformat": 4,
 "nbformat_minor": 5
}
