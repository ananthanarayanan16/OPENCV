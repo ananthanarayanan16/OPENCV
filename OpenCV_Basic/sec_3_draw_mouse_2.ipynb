{
 "cells": [
  {
   "cell_type": "code",
   "execution_count": 6,
   "id": "7b23f617-2e4d-4d67-a45d-ecdf30911e15",
   "metadata": {},
   "outputs": [],
   "source": [
    "# DRAW RECTANGLE IN MOUSE DRAGE\n",
    "\n",
    "import cv2\n",
    "import numpy as np\n",
    "\n",
    "# VARIABLE\n",
    "\n",
    "# TRUE WHILE MOUSE BUTTON DOWN, FALSE WHILE MOUSE BUTTON UP\n",
    "\n",
    "drawing = False\n",
    "ix = -1\n",
    "iy = -1\n",
    "\n",
    "# FUNCTION\n",
    "\n",
    "def draw_rectangle(event, x, y, flags, params):\n",
    "\n",
    "    global ix, iy, drawing\n",
    "\n",
    "    if event == cv2.EVENT_LBUTTONDOWN:\n",
    "\n",
    "        drawing = True\n",
    "        ix, iy = x, y\n",
    "\n",
    "    elif event == cv2.EVENT_MOUSEMOVE:\n",
    "\n",
    "        if drawing == True:\n",
    "            cv2.rectangle(img, (ix,iy), (x,y), (0,255,0), 1)\n",
    "\n",
    "    elif event == cv2.EVENT_LBUTTONUP:\n",
    "\n",
    "        drawing = False\n",
    "        cv2.rectangle(img, (ix,iy), (x,y), (0,255,0), 1)\n",
    "\n",
    "#SHOWING THE IMAGE\n",
    "\n",
    "img = np.zeros((512,512,3))\n",
    "\n",
    "cv2.namedWindow(winname = 'my_drawing')\n",
    "\n",
    "cv2.setMouseCallback('my_drawing',draw_rectangle)\n",
    "\n",
    "while True:\n",
    "\n",
    "    cv2.imshow('my_drawing', img)\n",
    "\n",
    "    if cv2.waitKey(2) & 0xFF == 27:\n",
    "        break\n",
    "\n",
    "cv2.destroyAllWindows()"
   ]
  },
  {
   "cell_type": "code",
   "execution_count": null,
   "id": "1a055af0-920e-41a3-9a11-c3271c12a7f8",
   "metadata": {},
   "outputs": [],
   "source": []
  },
  {
   "cell_type": "code",
   "execution_count": null,
   "id": "c5a76f01-d603-490b-978f-e0e31cd3877b",
   "metadata": {},
   "outputs": [],
   "source": []
  }
 ],
 "metadata": {
  "kernelspec": {
   "display_name": "Python 3 (ipykernel)",
   "language": "python",
   "name": "python3"
  },
  "language_info": {
   "codemirror_mode": {
    "name": "ipython",
    "version": 3
   },
   "file_extension": ".py",
   "mimetype": "text/x-python",
   "name": "python",
   "nbconvert_exporter": "python",
   "pygments_lexer": "ipython3",
   "version": "3.10.12"
  }
 },
 "nbformat": 4,
 "nbformat_minor": 5
}
