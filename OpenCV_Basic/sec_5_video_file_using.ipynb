{
 "cells": [
  {
   "cell_type": "code",
   "execution_count": 8,
   "id": "ce0a90ff-f62c-43bb-8840-7638b4021157",
   "metadata": {},
   "outputs": [],
   "source": [
    "# USING VIDEO FILE\n",
    "\n",
    "import cv2\n",
    "import time  # IMPORT TIME FILE \n",
    "\n",
    "cap = cv2.VideoCapture('/home/srijanani/GIT/OpenCV/OpenCV_Basic/mysupervideo.mp4')\n",
    "\n",
    "if cap.isOpened() == False:\n",
    "    \n",
    "    print(\"ERROR FILE NOT FOUND OR WRONG CODE USED!\")\n",
    "\n",
    "while cap.isOpened():\n",
    "\n",
    "    ret, frame = cap.read()\n",
    "\n",
    "    if ret == True:\n",
    "\n",
    "        # WRITER THE VIDEO 20 FRAME PER SECONDS\n",
    "\n",
    "        time.sleep(1/20)\n",
    "        \n",
    "        cv2.imshow('frame', frame)\n",
    "\n",
    "        if cv2.waitKey(1) & 0xFF == ord('q'):\n",
    "\n",
    "            break\n",
    "\n",
    "    else:\n",
    "\n",
    "        break\n",
    "\n",
    "cap.release()\n",
    "\n",
    "cv2.destroyAllWindows()\n",
    "        "
   ]
  },
  {
   "cell_type": "code",
   "execution_count": null,
   "id": "74adf70c-3691-4203-9a0d-280dbcb43622",
   "metadata": {},
   "outputs": [],
   "source": []
  },
  {
   "cell_type": "code",
   "execution_count": null,
   "id": "67913897-8936-44b1-a530-83591e8609ae",
   "metadata": {},
   "outputs": [],
   "source": []
  }
 ],
 "metadata": {
  "kernelspec": {
   "display_name": "Python 3 (ipykernel)",
   "language": "python",
   "name": "python3"
  },
  "language_info": {
   "codemirror_mode": {
    "name": "ipython",
    "version": 3
   },
   "file_extension": ".py",
   "mimetype": "text/x-python",
   "name": "python",
   "nbconvert_exporter": "python",
   "pygments_lexer": "ipython3",
   "version": "3.10.12"
  }
 },
 "nbformat": 4,
 "nbformat_minor": 5
}
