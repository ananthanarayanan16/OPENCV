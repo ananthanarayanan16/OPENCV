{
 "cells": [
  {
   "cell_type": "code",
   "execution_count": 18,
   "id": "df794594-01bf-4bf8-a8ee-417f64411b64",
   "metadata": {},
   "outputs": [],
   "source": [
    "# TASK DRAWN CIRCLE IN LIVE VIDEO \n",
    "\n",
    "import cv2"
   ]
  },
  {
   "cell_type": "code",
   "execution_count": 21,
   "id": "d32b51c2-ec77-4fbf-87a0-ca755ad3f95d",
   "metadata": {},
   "outputs": [],
   "source": [
    "## DECLERAING GLOBAL VARIABLES ##\n",
    "\n",
    "pt = (0,0)\n",
    "leftbutton_clicked = False\n",
    "\n",
    "## CALLBACK FUNCTION ##\n",
    "\n",
    "def draw_circle(event, x, y, flag, prama):\n",
    "\n",
    "    global pt, leftbutton_clicked\n",
    "\n",
    "    if event == cv2.EVENT_LBUTTONDOWN:\n",
    "\n",
    "        pt = (x, y)\n",
    "        leftbutton_clicked = False\n",
    "\n",
    "    if event == cv2.EVENT_LBUTTONUP:\n",
    "\n",
    "        leftbutton_clicked = True\n",
    "        \n",
    "\n",
    "        # if leftbutton_clicked == True:\n",
    "\n",
    "        #     pt = (0, 0)\n",
    "        #     leftbuttonclicked = False\n",
    "\n",
    "        # if leftbutton_clicked == False:\n",
    "\n",
    "        #     pt = (x, y)\n",
    "        #     leftbutton_clicked = True\n",
    "\n",
    "       \n",
    "## CONNECTING TO CALLBACK ##\n",
    "\n",
    "cap = cv2.VideoCapture(0)\n",
    "\n",
    "cv2.namedWindow('Circle')\n",
    "cv2.setMouseCallback('Circle', draw_circle)\n",
    "\n",
    "while True:\n",
    "\n",
    "    ret, frame = cap.read()\n",
    "\n",
    "    # DRAWN CIRCLE ON FRAME BASED ON GLOBAL VARIABLE\n",
    "\n",
    "    if leftbutton_clicked:\n",
    "        \n",
    "        cv2.circle(frame, center=(pt), radius=90, color=(255, 255, 255), thickness=-1)\n",
    "\n",
    "    cv2.imshow('Circle', frame)\n",
    "    \n",
    "    if cv2.waitKey(10) & 0xFF == ord('q'):\n",
    "        break\n",
    "\n",
    "\n",
    "cap.release()\n",
    "cv2.destroyAllWindows()        "
   ]
  },
  {
   "cell_type": "code",
   "execution_count": null,
   "id": "b4ddd47e-e22f-4e7a-91dd-4e9542ce5375",
   "metadata": {},
   "outputs": [],
   "source": []
  },
  {
   "cell_type": "code",
   "execution_count": null,
   "id": "171fd861-1c31-477a-9be0-323002025c1f",
   "metadata": {},
   "outputs": [],
   "source": []
  }
 ],
 "metadata": {
  "kernelspec": {
   "display_name": "Python 3 (ipykernel)",
   "language": "python",
   "name": "python3"
  },
  "language_info": {
   "codemirror_mode": {
    "name": "ipython",
    "version": 3
   },
   "file_extension": ".py",
   "mimetype": "text/x-python",
   "name": "python",
   "nbconvert_exporter": "python",
   "pygments_lexer": "ipython3",
   "version": "3.10.12"
  }
 },
 "nbformat": 4,
 "nbformat_minor": 5
}
