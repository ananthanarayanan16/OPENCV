{
 "cells": [
  {
   "cell_type": "code",
   "execution_count": 23,
   "id": "0ca501ff-3f98-47c0-9d22-15d0b09014f0",
   "metadata": {},
   "outputs": [
    {
     "name": "stdout",
     "output_type": "stream",
     "text": [
      "<class 'list'>\n",
      "<class 'numpy.ndarray'>\n",
      "[1 2 3 4 5]\n"
     ]
    },
    {
     "data": {
      "text/plain": [
       "numpy.ndarray"
      ]
     },
     "execution_count": 23,
     "metadata": {},
     "output_type": "execute_result"
    }
   ],
   "source": [
    "# CREATING ARRAY USING NUMPY FUNCTIONS\n",
    "\n",
    "# from numpy import *\n",
    "import numpy as np\n",
    "\n",
    "mylist = [1,2,3,4,5]\n",
    "\n",
    "# type(mylist)\n",
    "\n",
    "print(type(mylist))\n",
    "\n",
    "myarray = np.array(mylist)\n",
    "\n",
    "# type(myarray)\n",
    "\n",
    "print(type(myarray))\n",
    "\n",
    "print(myarray)\n",
    "\n",
    "\n",
    "type(myarray)"
   ]
  },
  {
   "cell_type": "code",
   "execution_count": 38,
   "id": "3b8f6510-6ec0-4cd7-8e4e-51c892a96a38",
   "metadata": {},
   "outputs": [
    {
     "name": "stdout",
     "output_type": "stream",
     "text": [
      "Arange with step :  [0 2 4 6 8]\n",
      "\n",
      "Arange without step :  [0 1 2 3 4 5 6 7 8 9]\n",
      "\n",
      "Zero array : \n",
      " [[0. 0. 0. 0. 0.]\n",
      " [0. 0. 0. 0. 0.]\n",
      " [0. 0. 0. 0. 0.]\n",
      " [0. 0. 0. 0. 0.]\n",
      " [0. 0. 0. 0. 0.]]\n",
      "\n",
      "One array : \n",
      " [[1. 1. 1. 1.]\n",
      " [1. 1. 1. 1.]\n",
      " [1. 1. 1. 1.]]\n"
     ]
    }
   ],
   "source": [
    "# USING arange(), zeros(), ones() FUNCTIONS\n",
    "\n",
    "import numpy as np\n",
    "\n",
    "myarray = np.arange(0,10,2)\n",
    "\n",
    "print(\"Arange with step : \",myarray)\n",
    "\n",
    "myarray = np.arange(0,10)\n",
    "\n",
    "print(\"\\nArange without step : \",myarray)\n",
    "\n",
    "zero_array = np.zeros(shape = (5,5))\n",
    "\n",
    "print(\"\\nZero array : \\n\",zero_array)\n",
    "\n",
    "# one_array = np.ones((3,4))\n",
    "\n",
    "one_array = np.ones(shape = (3,4))\n",
    "\n",
    "print(\"\\nOne array : \\n\",one_array)"
   ]
  },
  {
   "cell_type": "code",
   "execution_count": 47,
   "id": "e0894c70-e5cb-4c64-ade7-b0d0e452a749",
   "metadata": {},
   "outputs": [
    {
     "name": "stdout",
     "output_type": "stream",
     "text": [
      "Array using random rand : \n",
      " [95 11 81 70 63 87 75  9 77 40]\n",
      "\n",
      "Array using random randint : \n",
      " [14 73 50 70 74 15 22 50 59 93 18 39 69 44 54 82 29 20 86 97]\n"
     ]
    }
   ],
   "source": [
    "# USING random.rand()\n",
    "\n",
    "import numpy as np\n",
    "\n",
    "np.random.seed(101)\n",
    "\n",
    "array = np.random.randint(0,100,10)\n",
    "\n",
    "print(\"Array using random rand : \\n\",array)\n",
    "\n",
    "array = np.random.randint(10,100,20)\n",
    "\n",
    "print(\"\\nArray using random randint : \\n\",array)"
   ]
  },
  {
   "cell_type": "code",
   "execution_count": 60,
   "id": "69735241-7785-4931-8580-cb5b87f1cd52",
   "metadata": {},
   "outputs": [
    {
     "name": "stdout",
     "output_type": "stream",
     "text": [
      "Array values : \n",
      " [38 13 73 10 76  6 80 65 17  2]\n",
      "\n",
      "Minimum value of array :  2\n",
      "\n",
      "Maximum value of array :  80\n",
      "\n",
      "Mean value of array :  38.0\n",
      "\n",
      "Index of the minimum value :  9\n",
      "\n",
      "Index of the maximum value :  6\n",
      "\n",
      "Shape of the array :  (10,)\n",
      "\n",
      "After reshaping : \n",
      " [[38 13 73 10 76]\n",
      " [ 6 80 65 17  2]]\n",
      "\n",
      "Data type of the array :  int64\n"
     ]
    }
   ],
   "source": [
    "# USING min(), max(), mean(), average(), etc FUNCTIONS\n",
    "\n",
    "import numpy as np\n",
    "\n",
    "np.random.seed(1)\n",
    "\n",
    "array = np.random.randint(1,100,10)\n",
    "\n",
    "print(\"Array values : \\n\", array)\n",
    "\n",
    "print(\"\\nMinimum value of array : \",array.min())\n",
    "\n",
    "print(\"\\nMaximum value of array : \", array.max())\n",
    "\n",
    "print(\"\\nMean value of array : \", array.mean())\n",
    "\n",
    "print(\"\\nIndex of the minimum value : \", array.argmin())\n",
    "\n",
    "print(\"\\nIndex of the maximum value : \", array.argmax())\n",
    "\n",
    "# FIND SHAPE \n",
    "\n",
    "print(\"\\nShape of the array : \", shape(array))\n",
    "\n",
    "# USING RESHAPE FUNCTION\n",
    "\n",
    "array = array.reshape(2,5)\n",
    "\n",
    "print(\"\\nAfter reshaping : \\n\", array)\n",
    "\n",
    "# FIND DATA TYPE\n",
    "\n",
    "print(\"\\nData type of the array : \", array.dtype)"
   ]
  },
  {
   "cell_type": "code",
   "execution_count": 70,
   "id": "f55adbe4-8876-4094-b5fb-6e62b835dae6",
   "metadata": {},
   "outputs": [
    {
     "name": "stdout",
     "output_type": "stream",
     "text": [
      "\n",
      "The matrix is : \n",
      " [[ 0  1  2  3  4  5  6  7  8  9]\n",
      " [10 11 12 13 14 15 16 17 18 19]\n",
      " [20 21 22 23 24 25 26 27 28 29]\n",
      " [30 31 32 33 34 35 36 37 38 39]\n",
      " [40 41 42 43 44 45 46 47 48 49]\n",
      " [50 51 52 53 54 55 56 57 58 59]\n",
      " [60 61 62 63 64 65 66 67 68 69]\n",
      " [70 71 72 73 74 75 76 77 78 79]\n",
      " [80 81 82 83 84 85 86 87 88 89]\n",
      " [90 91 92 93 94 95 96 97 98 99]]\n",
      "\n",
      "Value of  0 : 1 is :  1\n",
      "\n",
      " [ 1 11 21 31 41 51 61 71 81 91]\n",
      "\n",
      " [[ 3]\n",
      " [13]\n",
      " [23]\n",
      " [33]\n",
      " [43]\n",
      " [53]\n",
      " [63]\n",
      " [73]\n",
      " [83]\n",
      " [93]]\n"
     ]
    }
   ],
   "source": [
    "# MATRIX BASIC SLICING \n",
    "\n",
    "import numpy as np\n",
    "\n",
    "matrix = np.arange(0,100).reshape(10,10)\n",
    "\n",
    "print(\"\\nThe matrix is : \\n\", arr)\n",
    "\n",
    "row = 0\n",
    "col = 1\n",
    "\n",
    "print(\"\\nValue of \",row, \":\", col, \"is : \",matrix[row, col])\n",
    "\n",
    "print(\"\\n\", matrix[:,1])\n",
    "\n",
    "print(\"\\n\", matrix[:,3].reshape(10,1))"
   ]
  },
  {
   "cell_type": "code",
   "execution_count": 78,
   "id": "82877bbd-ce6a-4d96-9995-3ccba37bb3d5",
   "metadata": {},
   "outputs": [
    {
     "name": "stdout",
     "output_type": "stream",
     "text": [
      "\n",
      "The given matrix : \n",
      " [[ 0  1  2  3  4  5  6  7  8  9]\n",
      " [10 11 12 13 14 15 16 17 18 19]\n",
      " [20 21 22 23 24 25 26 27 28 29]\n",
      " [30 31 32 33 34 35 36 37 38 39]\n",
      " [40 41 42 43 44 45 46 47 48 49]\n",
      " [50 51 52 53 54 55 56 57 58 59]\n",
      " [60 61 62 63 64 65 66 67 68 69]\n",
      " [70 71 72 73 74 75 76 77 78 79]\n",
      " [80 81 82 83 84 85 86 87 88 89]\n",
      " [90 91 92 93 94 95 96 97 98 99]]\n",
      "\n",
      "Slicing : \n",
      " [[ 0  1  2  3]\n",
      " [10 11 12 13]\n",
      " [20 21 22 23]\n",
      " [30 31 32 33]]\n",
      "\n",
      "After modified the matrix : \n",
      " [[ 0  0  0  0  4  5  6  7  8  9]\n",
      " [ 0  0  0  0 14 15 16 17 18 19]\n",
      " [ 0  0  0  0 24 25 26 27 28 29]\n",
      " [ 0  0  0  0 34 35 36 37 38 39]\n",
      " [40 41 42 43 44 45 46 47 48 49]\n",
      " [50 51 52 53 54 55 56 57 58 59]\n",
      " [60 61 62 63 64 65 66 67 68 69]\n",
      " [70 71 72 73 74 75 76 77 78 79]\n",
      " [80 81 82 83 84 85 86 87 88 89]\n",
      " [90 91 92 93 94 95 96 97 98 99]]\n",
      "\n",
      "The copy matrix : \n",
      " [[ 0  0  0  0  4  5  6  7  8  9]\n",
      " [ 0  0  0  0 14 15 16 17 18 19]\n",
      " [ 0  0  0  0 24 25 26 27 28 29]\n",
      " [ 0  0  0  0 34 35 36 37 38 39]\n",
      " [40 41 42 43 44 45 46 47 48 49]\n",
      " [50 51 52 53 54 55 56 57 58 59]\n",
      " [60 61 62 63 64 65 66 67 68 69]\n",
      " [70 71 72 73 74 75 76 77 78 79]\n",
      " [80 81 82 83 84 85 86 87 88 89]\n",
      " [90 91 92 93 94 95 96 97 98 99]]\n",
      "\n",
      "After changing the newmatrix value : \n",
      " [[100 100 100 100 100 100 100 100 100 100]\n",
      " [100 100 100 100 100 100 100 100 100 100]\n",
      " [100 100 100 100 100 100 100 100 100 100]\n",
      " [100 100 100 100 100 100 100 100 100 100]\n",
      " [100 100 100 100 100 100 100 100 100 100]\n",
      " [100 100 100 100 100 100 100 100 100 100]\n",
      " [ 60  61  62  63  64  65  66  67  68  69]\n",
      " [ 70  71  72  73  74  75  76  77  78  79]\n",
      " [ 80  81  82  83  84  85  86  87  88  89]\n",
      " [ 90  91  92  93  94  95  96  97  98  99]]\n"
     ]
    }
   ],
   "source": [
    "# SLICING MATRIX \n",
    "\n",
    "import numpy as np\n",
    "\n",
    "matrix = np.arange(0,100).reshape(10,10)\n",
    "\n",
    "print(\"\\nThe given matrix : \\n\", matrix)\n",
    "\n",
    "print(\"\\nSlicing : \\n\", matrix[0:4,0:4])\n",
    "\n",
    "matrix[0:4,0:4] = 0\n",
    "\n",
    "print(\"\\nAfter modified the matrix : \\n\",matrix)\n",
    "\n",
    "# COPYING THE MATRIX\n",
    "\n",
    "newmatrix = matrix.copy()\n",
    "\n",
    "print(\"\\nThe copy matrix : \\n\", newmatrix)\n",
    "\n",
    "newmatrix[0:6, :] = 100\n",
    "\n",
    "print(\"\\nAfter changing the newmatrix value : \\n\", newmatrix)"
   ]
  },
  {
   "cell_type": "code",
   "execution_count": null,
   "id": "f27cabb9-3710-45f7-bf1f-7ddbcc489421",
   "metadata": {},
   "outputs": [],
   "source": []
  }
 ],
 "metadata": {
  "kernelspec": {
   "display_name": "Python 3 (ipykernel)",
   "language": "python",
   "name": "python3"
  },
  "language_info": {
   "codemirror_mode": {
    "name": "ipython",
    "version": 3
   },
   "file_extension": ".py",
   "mimetype": "text/x-python",
   "name": "python",
   "nbconvert_exporter": "python",
   "pygments_lexer": "ipython3",
   "version": "3.10.12"
  }
 },
 "nbformat": 4,
 "nbformat_minor": 5
}
