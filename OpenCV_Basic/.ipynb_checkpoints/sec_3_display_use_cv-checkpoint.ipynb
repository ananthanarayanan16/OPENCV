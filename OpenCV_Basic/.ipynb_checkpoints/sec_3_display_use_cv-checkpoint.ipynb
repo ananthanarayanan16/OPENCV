{
 "cells": [
  {
   "cell_type": "code",
   "execution_count": null,
   "id": "e1b115b8-767a-46e4-b11b-d92eb75d7dd9",
   "metadata": {},
   "outputs": [],
   "source": [
    "# DISPLAY IMAGE WITH OPENCV LIBRARY\n",
    "\n",
    "import cv2\n",
    "\n",
    "img = cv2.imread('/home/srijanani/GIT/OpenCV/Images/puppy.jpeg')\n",
    "\n",
    "cv2.imshow('Puppy', img)\n",
    "\n",
    "cv2.waitKey()"
   ]
  }
 ],
 "metadata": {
  "kernelspec": {
   "display_name": "Python 3 (ipykernel)",
   "language": "python",
   "name": "python3"
  },
  "language_info": {
   "codemirror_mode": {
    "name": "ipython",
    "version": 3
   },
   "file_extension": ".py",
   "mimetype": "text/x-python",
   "name": "python",
   "nbconvert_exporter": "python",
   "pygments_lexer": "ipython3",
   "version": "3.10.12"
  }
 },
 "nbformat": 4,
 "nbformat_minor": 5
}
