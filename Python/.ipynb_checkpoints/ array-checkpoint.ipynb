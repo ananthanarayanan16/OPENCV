{
 "cells": [
  {
   "cell_type": "code",
   "execution_count": 1,
   "id": "ec0ac1da-d925-4a45-9115-0071911bd3bb",
   "metadata": {},
   "outputs": [
    {
     "name": "stdout",
     "output_type": "stream",
     "text": [
      "array('i', [1, 2, 3, 4, 5])\n",
      "(129760180137968, 5)\n"
     ]
    }
   ],
   "source": [
    "import array as arr\n",
    "\n",
    "value = arr.array('i',[1,2,3,4,5])\n",
    "\n",
    "print(value)\n",
    "\n",
    "print(value.buffer_info())"
   ]
  },
  {
   "cell_type": "code",
   "execution_count": 19,
   "id": "a2aecdcd-c54a-43dd-a0d7-ec5a0ffe07e4",
   "metadata": {},
   "outputs": [
    {
     "name": "stdout",
     "output_type": "stream",
     "text": [
      "1\n",
      "2\n",
      "3\n",
      "4\n",
      "5\n",
      "1\n",
      "2\n",
      "3\n",
      "4\n",
      "5\n"
     ]
    }
   ],
   "source": [
    "import array as arr\n",
    "\n",
    "value = arr.array('i',[1,2,3,4,5,])\n",
    "\n",
    "for i in range(len(value)):\n",
    "\n",
    "    print(value[i])\n",
    "\n",
    "for e in value:\n",
    "\n",
    "    print(e)"
   ]
  },
  {
   "cell_type": "code",
   "execution_count": 2,
   "id": "275fdce3-167f-486a-be5d-f11c77688db2",
   "metadata": {},
   "outputs": [
    {
     "name": "stdin",
     "output_type": "stream",
     "text": [
      "Enter the size of the array :  5\n",
      "Enter the value :  1\n",
      "Enter the value :  2\n",
      "Enter the value :  3\n",
      "Enter the value :  4\n",
      "Enter the value :  5\n"
     ]
    },
    {
     "name": "stdout",
     "output_type": "stream",
     "text": [
      "array('i', [1, 2, 3, 4, 5])\n"
     ]
    }
   ],
   "source": [
    "# Get value with user\n",
    "\n",
    "from array import *\n",
    "\n",
    "arr = array('i',[])\n",
    "\n",
    "n = int(input(\"Enter the size of the array : \"))\n",
    "\n",
    "for i in range(n):\n",
    "\n",
    "    x = int(input(\"Enter the value : \"))\n",
    "\n",
    "    arr.append(x)\n",
    "\n",
    "print(arr)"
   ]
  },
  {
   "cell_type": "code",
   "execution_count": 18,
   "id": "0f473b85-326b-4fe6-b98b-aa1cbac0df2e",
   "metadata": {},
   "outputs": [
    {
     "name": "stdin",
     "output_type": "stream",
     "text": [
      "Enter the size of array :  5\n"
     ]
    },
    {
     "name": "stdout",
     "output_type": "stream",
     "text": [
      "\n",
      "Enter  5 values : \n",
      "\n"
     ]
    },
    {
     "name": "stdin",
     "output_type": "stream",
     "text": [
      "Enter a value :  1\n",
      "Enter a value :  2\n",
      "Enter a value :  3\n",
      "Enter a value :  4\n",
      "Enter a value :  5\n"
     ]
    },
    {
     "name": "stdout",
     "output_type": "stream",
     "text": [
      "\n",
      "The given array :  array('i', [1, 2, 3, 4, 5])\n"
     ]
    },
    {
     "name": "stdin",
     "output_type": "stream",
     "text": [
      "\n",
      "Enter the search value :  4\n"
     ]
    },
    {
     "name": "stdout",
     "output_type": "stream",
     "text": [
      "\n",
      "Search index using function :  3\n",
      "\n",
      "Search index manual.\n",
      "\n",
      "The given value  4  in the index :  3\n"
     ]
    }
   ],
   "source": [
    "#Search the value & Get the value with user\n",
    "\n",
    "from array import *\n",
    "\n",
    "arr = array('i',[])\n",
    "\n",
    "n = int(input(\"Enter the size of array : \"))\n",
    "\n",
    "print(\"\\nEnter \",n,\"values : \\n\")\n",
    "\n",
    "for i in range(n):\n",
    "    x = int(input(\"Enter a value : \")) \n",
    "    arr.append(x)\n",
    "\n",
    "print(\"\\nThe given array : \",arr)\n",
    "\n",
    "val = int(input(\"\\nEnter the search value : \"))\n",
    "\n",
    "print(\"\\nSearch index using function : \",arr.index(val))\n",
    "\n",
    "print(\"\\nSearch index manual.\")\n",
    "\n",
    "k = 0 \n",
    "for e in arr: \n",
    "    if (e == val): \n",
    "        print(\"\\nThe given value \",val,\" in the index : \",k) \n",
    "        break \n",
    "    k+=1\n",
    "\n",
    "if(k == 6):\n",
    "    print(\"\\nThe given value \",val,\" is not in the array.\")\n"
   ]
  },
  {
   "cell_type": "code",
   "execution_count": null,
   "id": "9844b607-c1b4-4d9f-b49e-91ca8dcc4d63",
   "metadata": {},
   "outputs": [],
   "source": []
  }
 ],
 "metadata": {
  "kernelspec": {
   "display_name": "Python 3 (ipykernel)",
   "language": "python",
   "name": "python3"
  },
  "language_info": {
   "codemirror_mode": {
    "name": "ipython",
    "version": 3
   },
   "file_extension": ".py",
   "mimetype": "text/x-python",
   "name": "python",
   "nbconvert_exporter": "python",
   "pygments_lexer": "ipython3",
   "version": "3.10.12"
  }
 },
 "nbformat": 4,
 "nbformat_minor": 5
}
