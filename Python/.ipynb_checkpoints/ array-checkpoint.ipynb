{
 "cells": [
  {
   "cell_type": "code",
   "execution_count": 1,
   "id": "ec0ac1da-d925-4a45-9115-0071911bd3bb",
   "metadata": {},
   "outputs": [
    {
     "name": "stdout",
     "output_type": "stream",
     "text": [
      "array('i', [1, 2, 3, 4, 5])\n",
      "(129760180137968, 5)\n"
     ]
    }
   ],
   "source": [
    "import array as arr\n",
    "\n",
    "value = arr.array('i',[1,2,3,4,5])\n",
    "\n",
    "print(value)\n",
    "\n",
    "print(value.buffer_info())"
   ]
  },
  {
   "cell_type": "code",
   "execution_count": 4,
   "id": "a2aecdcd-c54a-43dd-a0d7-ec5a0ffe07e4",
   "metadata": {},
   "outputs": [
    {
     "name": "stdout",
     "output_type": "stream",
     "text": [
      "1\n",
      "2\n",
      "3\n",
      "4\n",
      "5\n",
      "1\n",
      "2\n",
      "3\n",
      "4\n",
      "5\n"
     ]
    }
   ],
   "source": [
    "import array as arr\n",
    "\n",
    "value = arr.array('i',[1,2,3,4,5,])\n",
    "\n",
    "for i in range(len(value)):\n",
    "\n",
    "    print(value[i])\n",
    "\n",
    "for e in value:\n",
    "\n",
    "    print(e)"
   ]
  },
  {
   "cell_type": "code",
   "execution_count": 2,
   "id": "275fdce3-167f-486a-be5d-f11c77688db2",
   "metadata": {},
   "outputs": [
    {
     "name": "stdin",
     "output_type": "stream",
     "text": [
      "Enter the size of the array :  5\n",
      "Enter the value :  1\n",
      "Enter the value :  2\n",
      "Enter the value :  3\n",
      "Enter the value :  4\n",
      "Enter the value :  5\n"
     ]
    },
    {
     "name": "stdout",
     "output_type": "stream",
     "text": [
      "array('i', [1, 2, 3, 4, 5])\n"
     ]
    }
   ],
   "source": [
    "# Get value with user\n",
    "\n",
    "from array import *\n",
    "\n",
    "arr = array('i',[])\n",
    "\n",
    "n = int(input(\"Enter the size of the array : \"))\n",
    "\n",
    "for i in range(n):\n",
    "\n",
    "    x = int(input(\"Enter the value : \"))\n",
    "\n",
    "    arr.append(x)\n",
    "\n",
    "print(arr)"
   ]
  },
  {
   "cell_type": "code",
   "execution_count": null,
   "id": "d1b5f139-783b-4b53-b42b-2f0ad00b3cb3",
   "metadata": {},
   "outputs": [],
   "source": []
  }
 ],
 "metadata": {
  "kernelspec": {
   "display_name": "Python 3 (ipykernel)",
   "language": "python",
   "name": "python3"
  },
  "language_info": {
   "codemirror_mode": {
    "name": "ipython",
    "version": 3
   },
   "file_extension": ".py",
   "mimetype": "text/x-python",
   "name": "python",
   "nbconvert_exporter": "python",
   "pygments_lexer": "ipython3",
   "version": "3.10.12"
  }
 },
 "nbformat": 4,
 "nbformat_minor": 5
}
