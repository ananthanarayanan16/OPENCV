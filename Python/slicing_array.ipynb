{
 "cells": [
  {
   "cell_type": "code",
   "execution_count": 4,
   "id": "d358ceaa-bbb3-4250-ae81-f4351e103bfc",
   "metadata": {},
   "outputs": [
    {
     "name": "stdout",
     "output_type": "stream",
     "text": [
      "[2 3 4 5]\n",
      "[5 6 7]\n",
      "[1 2 3 4]\n"
     ]
    }
   ],
   "source": [
    "# ONE DIMENSIONAL ARRAY\n",
    "\n",
    "import numpy as np\n",
    "\n",
    "arr = np.array([1, 2, 3, 4, 5, 6, 7])\n",
    "\n",
    "print(arr[1:5])\n",
    "\n",
    "print(arr[4:]) \n",
    "\n",
    "print(arr[:4]) "
   ]
  },
  {
   "cell_type": "code",
   "execution_count": 5,
   "id": "9ac35359-0048-40a7-a979-15dd59ff351d",
   "metadata": {},
   "outputs": [
    {
     "name": "stdout",
     "output_type": "stream",
     "text": [
      "[5 6]\n"
     ]
    }
   ],
   "source": [
    "# NEGATIVE SLICIING IN ONE DIMENSIONAL ARRAY\n",
    "\n",
    "import numpy as np\n",
    "\n",
    "arr = np.array([1, 2, 3, 4, 5, 6, 7])\n",
    "\n",
    "print(arr[-3:-1]) "
   ]
  },
  {
   "cell_type": "code",
   "execution_count": 8,
   "id": "c0a7bdee-41d6-423f-acce-f3c16009f20e",
   "metadata": {},
   "outputs": [
    {
     "name": "stdout",
     "output_type": "stream",
     "text": [
      "[2 4]\n",
      "[1 3 5 7]\n"
     ]
    }
   ],
   "source": [
    "# STEP IN SLICING\n",
    "\n",
    "import numpy as np\n",
    "\n",
    "arr = np.array([1, 2, 3, 4, 5, 6, 7])\n",
    "\n",
    "print(arr[1:5:2]) \n",
    "\n",
    "print(arr[::2]) "
   ]
  },
  {
   "cell_type": "code",
   "execution_count": 14,
   "id": "7511f24f-1b07-4590-af6d-e2a276e03f12",
   "metadata": {},
   "outputs": [
    {
     "name": "stdout",
     "output_type": "stream",
     "text": [
      "[7 8 9]\n",
      "[3 8]\n",
      "[[2 3 4]\n",
      " [7 8 9]]\n"
     ]
    }
   ],
   "source": [
    "# TWO DIMENSIONAL ARRAY\n",
    "\n",
    "import numpy as np\n",
    "\n",
    "arr = np.array([[1, 2, 3, 4, 5], [6, 7, 8, 9, 10]])\n",
    "\n",
    "print(arr[1, 1:4]) \n",
    "\n",
    "print(arr[0:2, 2]) \n",
    "\n",
    "print(arr[0:2, 1:4]) "
   ]
  },
  {
   "cell_type": "code",
   "execution_count": null,
   "id": "da41c841-0bb5-45c4-b07a-afc57ffca8ab",
   "metadata": {},
   "outputs": [],
   "source": []
  }
 ],
 "metadata": {
  "kernelspec": {
   "display_name": "Python 3 (ipykernel)",
   "language": "python",
   "name": "python3"
  },
  "language_info": {
   "codemirror_mode": {
    "name": "ipython",
    "version": 3
   },
   "file_extension": ".py",
   "mimetype": "text/x-python",
   "name": "python",
   "nbconvert_exporter": "python",
   "pygments_lexer": "ipython3",
   "version": "3.10.12"
  }
 },
 "nbformat": 4,
 "nbformat_minor": 5
}
