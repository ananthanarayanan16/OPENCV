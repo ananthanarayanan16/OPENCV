{
 "cells": [
  {
   "cell_type": "code",
   "execution_count": 9,
   "id": "3dfdff23-e7dd-49de-9551-bcc2c9a973e4",
   "metadata": {},
   "outputs": [
    {
     "name": "stdout",
     "output_type": "stream",
     "text": [
      "[[1 2 3 4 5]\n",
      " [5 6 7 8 9]]\n",
      "\n",
      "Data type :  int64\n",
      "\n",
      "Dimension of arr_1 :  2\n",
      "\n",
      "Shape of arr_1 :  (2, 5)\n",
      "\n",
      "Size of arr_1 :  10\n",
      "\n",
      "Flatten array is :  [1 2 3 4 5 5 6 7 8 9]\n"
     ]
    }
   ],
   "source": [
    "# MATRIX OPERATIONS\n",
    "\n",
    "import numpy as np\n",
    "\n",
    "arr_1 = np.array([\n",
    "                [1,2,3,4,5],\n",
    "                [5,6,7,8,9]\n",
    "                ])\n",
    "\n",
    "print(arr_1)\n",
    "\n",
    "print(\"\\nData type : \",arr_1.dtype)\n",
    "\n",
    "print(\"\\nDimension of arr_1 : \",arr_1.ndim)\n",
    "\n",
    "print(\"\\nShape of arr_1 : \",arr_1.shape)\n",
    "\n",
    "print(\"\\nSize of arr_1 : \",arr_1.size)\n",
    "\n",
    "arr_1 = arr_1.flatten()\n",
    "\n",
    "print(\"\\nFlatten array is : \",arr_1)"
   ]
  },
  {
   "cell_type": "code",
   "execution_count": 18,
   "id": "d29c356b-809b-4d8b-be0d-fbdefbb158bc",
   "metadata": {},
   "outputs": [
    {
     "name": "stdout",
     "output_type": "stream",
     "text": [
      "\n",
      "The array shape :  (2, 6)\n",
      "\n",
      "After array shape :  (12,)\n",
      "\n",
      "After reshapeiing : \n",
      " [[ 1  2  3  4]\n",
      " [ 5  6  7  8]\n",
      " [ 9 10 11 12]]\n",
      "\n",
      "After array shape :  (3, 4)\n",
      "\n",
      "After reshapeing : \n",
      " [[[ 1  2  3]\n",
      "  [ 4  5  6]]\n",
      "\n",
      " [[ 7  8  9]\n",
      "  [10 11 12]]]\n",
      "\n",
      "After array shape :  (2, 2, 3)\n"
     ]
    }
   ],
   "source": [
    "# RESHAPE FUNCTION\n",
    "\n",
    "import numpy as np\n",
    "\n",
    "arr_1 = np.array([\n",
    "                    [1,2,3,4,5,6],\n",
    "                    [7,8,9,10,11,12]\n",
    "                ])\n",
    "\n",
    "print(\"\\nThe array shape : \",arr_1.shape)\n",
    "\n",
    "arr_1 = arr_1.flatten()\n",
    "\n",
    "print(\"\\nAfter array shape : \",arr_1.shape)\n",
    "\n",
    "arr_1 = arr_1.reshape(3,4)\n",
    "\n",
    "print(\"\\nAfter reshapeiing : \\n\",arr_1)\n",
    "\n",
    "print(\"\\nAfter array shape : \",arr_1.shape)\n",
    "\n",
    "arr_1 = arr_1.reshape(2,2,3)\n",
    "\n",
    "print(\"\\nAfter reshapeing : \\n\",arr_1)\n",
    "\n",
    "print(\"\\nAfter array shape : \",arr_1.shape)"
   ]
  },
  {
   "cell_type": "code",
   "execution_count": 30,
   "id": "396e08b9-96fd-46dd-85eb-f831e24a21d2",
   "metadata": {},
   "outputs": [
    {
     "name": "stdout",
     "output_type": "stream",
     "text": [
      "\n",
      "Array is : \n",
      " [[1 2 3 4 5]\n",
      " [5 6 7 8 9]]\n",
      "\n",
      "Matrix is : \n",
      " [[1 2 3 4 5]\n",
      " [5 6 7 8 9]]\n",
      "[1 6]\n"
     ]
    }
   ],
   "source": [
    "# ARRAY TO MATRIX\n",
    "\n",
    "import numpy as np\n",
    "\n",
    "arr = np.array([\n",
    "    [1,2,3,4,5],\n",
    "    [5,6,7,8,9]\n",
    "])\n",
    "\n",
    "print(\"\\nArray is : \\n\",arr)\n",
    "\n",
    "m = np.matrix(arr)\n",
    "\n",
    "print(\"\\nMatrix is : \\n\",m)\n",
    "\n",
    "# print(np.diagonal(m))"
   ]
  },
  {
   "cell_type": "code",
   "execution_count": 36,
   "id": "ea03fe91-5d49-45b0-8718-ed9681772885",
   "metadata": {},
   "outputs": [
    {
     "name": "stdout",
     "output_type": "stream",
     "text": [
      "\n",
      "Matrix 1 is : \n",
      " [[1 2 3]\n",
      " [4 5 6]\n",
      " [7 8 9]]\n",
      "\n",
      "Diagonal is :  [1 5 9]\n",
      "\n",
      "Addition of two matrix : \n",
      " [[10 10 10]\n",
      " [10 10 10]\n",
      " [10 10 10]]\n",
      "\n",
      "Subraction of two matrix : \n",
      " [[-8 -6 -4]\n",
      " [-2  0  2]\n",
      " [ 4  6  8]]\n",
      "\n",
      "Multiplecation of two matrix : \n",
      " [[ 30  24  18]\n",
      " [ 84  69  54]\n",
      " [138 114  90]]\n"
     ]
    }
   ],
   "source": [
    "# MATRIX DIAGONAL AND MATRIX ADD, SUB, MULTIPLE\n",
    "\n",
    "import numpy as np\n",
    "\n",
    "m1 = np.matrix('1 2 3; 4 5 6; 7 8 9')\n",
    "\n",
    "m2 = np.matrix('9 8 7 ; 6 5 4 ; 3 2 1')\n",
    "\n",
    "print(\"\\nMatrix 1 is : \\n\",m1)\n",
    "\n",
    "print(\"\\nDiagonal is : \",np.diagonal(m1))\n",
    "\n",
    "m3 = m1 + m2\n",
    "\n",
    "print(\"\\nAddition of two matrix : \\n\",m3)\n",
    "\n",
    "m3 = m1 - m2\n",
    "\n",
    "print(\"\\nSubraction of two matrix : \\n\",m3)\n",
    "\n",
    "m3 = m1 * m2\n",
    "\n",
    "print(\"\\nMultiplecation of two matrix : \\n\",m3)"
   ]
  },
  {
   "cell_type": "code",
   "execution_count": null,
   "id": "90fb9c63-a033-4952-b334-ca914cad4b28",
   "metadata": {},
   "outputs": [],
   "source": []
  }
 ],
 "metadata": {
  "kernelspec": {
   "display_name": "Python 3 (ipykernel)",
   "language": "python",
   "name": "python3"
  },
  "language_info": {
   "codemirror_mode": {
    "name": "ipython",
    "version": 3
   },
   "file_extension": ".py",
   "mimetype": "text/x-python",
   "name": "python",
   "nbconvert_exporter": "python",
   "pygments_lexer": "ipython3",
   "version": "3.10.12"
  }
 },
 "nbformat": 4,
 "nbformat_minor": 5
}
