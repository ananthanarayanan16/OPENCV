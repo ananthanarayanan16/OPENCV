{
 "cells": [
  {
   "cell_type": "code",
   "execution_count": 3,
   "id": "1cbd620c-19bc-4aa8-8a83-fb30ecd9e2ed",
   "metadata": {},
   "outputs": [
    {
     "name": "stdout",
     "output_type": "stream",
     "text": [
      "int64\n"
     ]
    }
   ],
   "source": [
    "# NUMPY ARRAY FUNCTION\n",
    "# INCREAMENT WITH EACH ELEMENT\n",
    "\n",
    "\n",
    "import numpy as np\n",
    "\n",
    "arr = np.array([1,2,3,4,5])\n",
    "\n",
    "arr = arr + 5\n",
    "\n",
    "print(arr.dtype)"
   ]
  },
  {
   "cell_type": "code",
   "execution_count": 4,
   "id": "341187b9-a921-4d8c-90c3-de16b449393c",
   "metadata": {},
   "outputs": [
    {
     "name": "stdout",
     "output_type": "stream",
     "text": [
      "[ 2  4  6  8 10]\n"
     ]
    }
   ],
   "source": [
    "# ADDING TWO ARRAY\n",
    "\n",
    "import numpy as np\n",
    "\n",
    "arr_1 = np.array([1,2,3,4,5])\n",
    "\n",
    "arr_2 = np.array([1,2,3,4,5])\n",
    "\n",
    "arr_3 = arr_1 + arr_2\n",
    "\n",
    "print(arr_3)"
   ]
  },
  {
   "cell_type": "code",
   "execution_count": 13,
   "id": "6c005bc9-259c-4fac-9aa9-cbd4c872156d",
   "metadata": {},
   "outputs": [
    {
     "name": "stdout",
     "output_type": "stream",
     "text": [
      "sin\n",
      " [ 0.84147098  0.90929743  0.14112001 -0.7568025  -0.95892427]\n",
      "\n",
      "log\n",
      " [0.         0.69314718 1.09861229 1.38629436 1.60943791]\n",
      "\n",
      "sqrt\n",
      " [1.         1.41421356 1.73205081 2.         2.23606798]\n",
      "\n",
      "minimum\n",
      " 1\n",
      "\n",
      "maximum\n",
      " 5\n"
     ]
    }
   ],
   "source": [
    "# MATHEMATICAL FUNCTION USING ARRAY\n",
    "\n",
    "#import numpy as np\n",
    "\n",
    "from numpy import *  # THIS IMPORT ALL FUNCTION IN THE NUMPY ARRAY\n",
    "\n",
    "arr = np.array([1,2,3,4,5])\n",
    "\n",
    "print(\"sin\\n\",sin(arr))\n",
    "\n",
    "print(\"\\nlog\\n\",log(arr))\n",
    "\n",
    "print(\"\\nsqrt\\n\",sqrt(arr))\n",
    "\n",
    "print(\"\\nminimum\\n\",min(arr))\n",
    "\n",
    "print(\"\\nmaximum\\n\",max(arr))"
   ]
  },
  {
   "cell_type": "code",
   "execution_count": 15,
   "id": "79857740-2458-42ef-afa3-b4ea22a1c6a8",
   "metadata": {},
   "outputs": [
    {
     "name": "stdout",
     "output_type": "stream",
     "text": [
      "[ 1  2  3  4  5  6  7  8  9 10]\n"
     ]
    }
   ],
   "source": [
    "# ARRAY CONCATENATE FUNCTION\n",
    "\n",
    "import numpy as np\n",
    "\n",
    "arr_1 = np.array([1,2,3,4,5])\n",
    "\n",
    "arr_2 = np.array([6,7,8,9,10])\n",
    "\n",
    "arr = concatenate([arr_1,arr_2])\n",
    "\n",
    "print(arr)"
   ]
  },
  {
   "cell_type": "code",
   "execution_count": 24,
   "id": "1c10b89d-ce72-41b6-8e92-94e94b37609a",
   "metadata": {},
   "outputs": [
    {
     "name": "stdout",
     "output_type": "stream",
     "text": [
      "[1 2 3 4 5]\n",
      "\n",
      "Address of arr_1 :  132772473425808\n",
      "\n",
      "Address of arr_2 :  132772473425808\n"
     ]
    }
   ],
   "source": [
    "# ARRAY COPY FUNCTION\n",
    "\n",
    "import numpy as np\n",
    "\n",
    "arr_1 = np.array([1,2,3,4,5])\n",
    "\n",
    "arr_2 = arr_1\n",
    "\n",
    "print(arr_2)\n",
    "\n",
    "print(\"\\nAddress of arr_1 : \",id(arr_1))\n",
    "\n",
    "print(\"\\nAddress of arr_2 : \",id(arr_2))"
   ]
  },
  {
   "cell_type": "code",
   "execution_count": 30,
   "id": "832b6059-1441-41cb-8553-e5a6aa001dda",
   "metadata": {},
   "outputs": [
    {
     "name": "stdout",
     "output_type": "stream",
     "text": [
      "[1 2 3 4 5]\n",
      "[1 2 3 4 5]\n",
      "\n",
      "Address of arr_1 :  132772471587344\n",
      "\n",
      "Address of arr_2 :  132772471587248\n"
     ]
    }
   ],
   "source": [
    "# COPY USING VIEW FUNCTION\n",
    "\n",
    "import numpy as np\n",
    "\n",
    "arr_1 = np.array([1,2,3,4,5])\n",
    "\n",
    "arr_2 = arr_1.view()\n",
    "\n",
    "print(arr_1)\n",
    "\n",
    "print(arr_2)\n",
    "\n",
    "print(\"\\nAddress of arr_1 : \",id(arr_1))\n",
    "\n",
    "print(\"\\nAddress of arr_2 : \",id(arr_2))\n",
    "\n",
    "# COPY USING view() function it copy the array with different address"
   ]
  },
  {
   "cell_type": "code",
   "execution_count": 37,
   "id": "156c7a3e-77b2-4489-a76b-a567a2e16b10",
   "metadata": {},
   "outputs": [
    {
     "name": "stdout",
     "output_type": "stream",
     "text": [
      "\n",
      "Array_1 :  [100   2   3   4   5]\n",
      "\n",
      "Array_2 :  [100   2   3   4   5]\n"
     ]
    }
   ],
   "source": [
    "# SHALLOW() COPY \n",
    "\n",
    "import numpy as np\n",
    "\n",
    "arr_1 = np.array([1,2,3,4,5])\n",
    "\n",
    "arr_2 = arr_1.view()\n",
    "\n",
    "arr_1[0] = 100   # THE CHANGE ELEMENT AFFECT THE COPY ARRAY. THIS IS SHALLOW COPY\n",
    "\n",
    "print(\"\\nArray_1 : \",arr_1)\n",
    "\n",
    "print(\"\\nArray_2 : \",arr_2)"
   ]
  },
  {
   "cell_type": "code",
   "execution_count": 36,
   "id": "d434050f-bc2d-47c0-8f50-d87031b8f032",
   "metadata": {},
   "outputs": [
    {
     "name": "stdout",
     "output_type": "stream",
     "text": [
      "\n",
      "Array_1 :  [100   2   3   4   5]\n",
      "\n",
      "Array_2 :  [1 2 3 4 5]\n"
     ]
    }
   ],
   "source": [
    "# DEEP() COPY\n",
    "\n",
    "import numpy as np\n",
    "\n",
    "arr_1 = np.array([1,2,3,4,5])\n",
    "\n",
    "arr_2 = arr_1.copy()\n",
    "\n",
    "arr_1[0] = 100   # THE ELEMENT CHANGE ONLY THE FIRST ARRAY NOT CHANGE THE SECOND ARRAY. THIS IS DEEP COPY\n",
    "\n",
    "print(\"\\nArray_1 : \",arr_1)\n",
    "\n",
    "print(\"\\nArray_2 : \",arr_2)"
   ]
  },
  {
   "cell_type": "code",
   "execution_count": null,
   "id": "8f8de8af-1de2-4cd9-856f-18b1e2c7361e",
   "metadata": {},
   "outputs": [],
   "source": []
  }
 ],
 "metadata": {
  "kernelspec": {
   "display_name": "Python 3 (ipykernel)",
   "language": "python",
   "name": "python3"
  },
  "language_info": {
   "codemirror_mode": {
    "name": "ipython",
    "version": 3
   },
   "file_extension": ".py",
   "mimetype": "text/x-python",
   "name": "python",
   "nbconvert_exporter": "python",
   "pygments_lexer": "ipython3",
   "version": "3.10.12"
  }
 },
 "nbformat": 4,
 "nbformat_minor": 5
}
