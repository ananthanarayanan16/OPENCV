{
 "cells": [
  {
   "cell_type": "code",
   "execution_count": 2,
   "id": "6ce66b72-2149-4455-bfc0-8db0ed3416e3",
   "metadata": {},
   "outputs": [
    {
     "name": "stdout",
     "output_type": "stream",
     "text": [
      "[1 2 3 4 5]\n",
      "int64\n"
     ]
    }
   ],
   "source": [
    "# NUMPY ARRAY\n",
    "\n",
    "# ARRAY()\n",
    "\n",
    "from numpy import *\n",
    "\n",
    "arr = array([1,2,3,4,5])\n",
    "\n",
    "print(arr)\n",
    "\n",
    "print(arr.dtype)"
   ]
  },
  {
   "cell_type": "code",
   "execution_count": 7,
   "id": "48be436c-0fbd-4458-b0f7-99f05e489ad0",
   "metadata": {},
   "outputs": [
    {
     "name": "stdout",
     "output_type": "stream",
     "text": [
      "[ 1.          1.28571429  1.57142857  1.85714286  2.14285714  2.42857143\n",
      "  2.71428571  3.          3.28571429  3.57142857  3.85714286  4.14285714\n",
      "  4.42857143  4.71428571  5.          5.28571429  5.57142857  5.85714286\n",
      "  6.14285714  6.42857143  6.71428571  7.          7.28571429  7.57142857\n",
      "  7.85714286  8.14285714  8.42857143  8.71428571  9.          9.28571429\n",
      "  9.57142857  9.85714286 10.14285714 10.42857143 10.71428571 11.\n",
      " 11.28571429 11.57142857 11.85714286 12.14285714 12.42857143 12.71428571\n",
      " 13.         13.28571429 13.57142857 13.85714286 14.14285714 14.42857143\n",
      " 14.71428571 15.        ]\n",
      "\n",
      "\n",
      "[ 1.          1.73684211  2.47368421  3.21052632  3.94736842  4.68421053\n",
      "  5.42105263  6.15789474  6.89473684  7.63157895  8.36842105  9.10526316\n",
      "  9.84210526 10.57894737 11.31578947 12.05263158 12.78947368 13.52631579\n",
      " 14.26315789 15.        ]\n"
     ]
    }
   ],
   "source": [
    "# LINSPACE()\n",
    "\n",
    "# SYNTAX:\n",
    "#    linspace(start,stop,restep)\n",
    "\n",
    "from numpy import *\n",
    "\n",
    "arr_1 = linspace(1,15)\n",
    "\n",
    "print(arr_1)\n",
    "\n",
    "print(\"\\n\")\n",
    "\n",
    "arr_2 = linspace(1,15,20)\n",
    "\n",
    "print(arr_2)"
   ]
  },
  {
   "cell_type": "code",
   "execution_count": 9,
   "id": "e254ec31-9581-441e-8b55-786c7e0ebd24",
   "metadata": {},
   "outputs": [
    {
     "name": "stdout",
     "output_type": "stream",
     "text": [
      "[1 2 3 4 5 6 7 8 9]\n",
      "\n",
      "Arange using Step\n",
      "\n",
      "[10 12 14 16 18 20 22 24 26 28 30 32 34 36 38 40 42 44 46 48]\n"
     ]
    }
   ],
   "source": [
    "#ARANGE()\n",
    "\n",
    "# SYNTAX:\n",
    "#     arange(start,stop,step)\n",
    "\n",
    "from numpy import *\n",
    "\n",
    "arr = arange(1,10)\n",
    "\n",
    "print(arr)\n",
    "\n",
    "print(\"\\nArange using Step\\n\")\n",
    "\n",
    "arr = arange(10,50,2)\n",
    "\n",
    "print(arr)"
   ]
  },
  {
   "cell_type": "code",
   "execution_count": 21,
   "id": "ab721028-a8fd-404a-9fdc-28a9255dbe0b",
   "metadata": {},
   "outputs": [
    {
     "name": "stdout",
     "output_type": "stream",
     "text": [
      "[1.00000000e+01 2.15443469e+05 4.64158883e+09 1.00000000e+14\n",
      " 2.15443469e+18 4.64158883e+22 1.00000000e+27 2.15443469e+31\n",
      " 4.64158883e+35 1.00000000e+40]\n",
      "10.000000\n"
     ]
    }
   ],
   "source": [
    "# LOGSPACE\n",
    "\n",
    "#SYNTAX:\n",
    "#   logspace(start,stop,divide)\n",
    "\n",
    "import numpy as np\n",
    "\n",
    "arr = np.logspace(1,40,10)\n",
    "\n",
    "print(arr)\n",
    "\n",
    "print('%2f'%arr[0])"
   ]
  },
  {
   "cell_type": "code",
   "execution_count": 28,
   "id": "fb8b6de4-8d93-4716-81fd-15fc75e2b635",
   "metadata": {},
   "outputs": [
    {
     "name": "stdout",
     "output_type": "stream",
     "text": [
      "[0. 0. 0. 0. 0. 0. 0. 0. 0. 0.]\n"
     ]
    }
   ],
   "source": [
    "# ZEROS\n",
    "\n",
    "#SYNTAX:\n",
    "#   zero(size)\n",
    "\n",
    "import numpy as np\n",
    "\n",
    "arr = np.zeros(10)\n",
    "\n",
    "print(arr)"
   ]
  },
  {
   "cell_type": "code",
   "execution_count": 34,
   "id": "a13a9191-bb55-4e35-91df-89997b86a7e9",
   "metadata": {},
   "outputs": [
    {
     "name": "stdout",
     "output_type": "stream",
     "text": [
      "[1. 1. 1. 1. 1. 1. 1. 1. 1. 1.]\n"
     ]
    }
   ],
   "source": [
    "#ONES\n",
    "\n",
    "# SYNTAX:\n",
    "#        ones(size)\n",
    "\n",
    "import numpy as np\n",
    "\n",
    "arr = np.ones(10)\n",
    "\n",
    "print(arr)"
   ]
  },
  {
   "cell_type": "code",
   "execution_count": null,
   "id": "8e412400-2184-4d01-a6ad-a17a617e5a31",
   "metadata": {},
   "outputs": [],
   "source": []
  }
 ],
 "metadata": {
  "kernelspec": {
   "display_name": "Python 3 (ipykernel)",
   "language": "python",
   "name": "python3"
  },
  "language_info": {
   "codemirror_mode": {
    "name": "ipython",
    "version": 3
   },
   "file_extension": ".py",
   "mimetype": "text/x-python",
   "name": "python",
   "nbconvert_exporter": "python",
   "pygments_lexer": "ipython3",
   "version": "3.10.12"
  }
 },
 "nbformat": 4,
 "nbformat_minor": 5
}
